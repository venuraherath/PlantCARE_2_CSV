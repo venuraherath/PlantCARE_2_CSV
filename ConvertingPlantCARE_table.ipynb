{
 "cells": [
  {
   "cell_type": "code",
   "execution_count": 5,
   "metadata": {},
   "outputs": [],
   "source": [
    "import pandas as pd"
   ]
  },
  {
   "cell_type": "code",
   "execution_count": 7,
   "metadata": {},
   "outputs": [],
   "source": [
    "df = pd.read_csv('Promoter_Element_Distribution.csv')"
   ]
  },
  {
   "cell_type": "code",
   "execution_count": 8,
   "metadata": {},
   "outputs": [],
   "source": [
    "df.columns = ['Gene', 'Element']"
   ]
  },
  {
   "cell_type": "code",
   "execution_count": 9,
   "metadata": {},
   "outputs": [],
   "source": [
    "df['Count'] = 1"
   ]
  },
  {
   "cell_type": "code",
   "execution_count": 10,
   "metadata": {},
   "outputs": [],
   "source": [
    "df = df.pivot_table(index='Gene', columns='Element', aggfunc=sum)"
   ]
  },
  {
   "cell_type": "code",
   "execution_count": 11,
   "metadata": {},
   "outputs": [
    {
     "name": "stdout",
     "output_type": "stream",
     "text": [
      "                      Count                                                \\\n",
      "Element  3-AF1 binding site 3-AF3 binding site 4cl-CMA2b A-box AAAC-motif   \n",
      "Gene                                                                        \n",
      "STBZIP1                 NaN                NaN       NaN   2.0        NaN   \n",
      "STBZIP10                NaN                NaN       NaN   NaN        1.0   \n",
      "STBZIP11                NaN                NaN       NaN   NaN        NaN   \n",
      "STBZIP12                NaN                NaN       NaN   NaN        NaN   \n",
      "STBZIP13                NaN                NaN       NaN   NaN        NaN   \n",
      "...                     ...                ...       ...   ...        ...   \n",
      "STBZIP78                NaN                NaN       NaN   NaN        1.0   \n",
      "STBZIP79                NaN                NaN       NaN   NaN        NaN   \n",
      "STBZIP8                 NaN                NaN       NaN   NaN        NaN   \n",
      "STBZIP80                NaN                1.0       NaN   NaN        NaN   \n",
      "STBZIP9                 NaN                NaN       NaN   1.0        NaN   \n",
      "\n",
      "                                                   ...                       \\\n",
      "Element  AACA_motif AAGAA-motif ABRE ABRE2 ABRE3a  ... as-1 box S chs-CMA1a   \n",
      "Gene                                               ...                        \n",
      "STBZIP1         1.0         1.0  3.0   NaN    NaN  ...  3.0   1.0       NaN   \n",
      "STBZIP10        NaN         NaN  7.0   NaN    NaN  ...  NaN   NaN       NaN   \n",
      "STBZIP11        NaN         1.0  3.0   NaN    2.0  ...  1.0   1.0       NaN   \n",
      "STBZIP12        NaN         2.0  1.0   NaN    NaN  ...  NaN   NaN       NaN   \n",
      "STBZIP13        NaN         1.0  3.0   1.0    1.0  ...  1.0   NaN       NaN   \n",
      "...             ...         ...  ...   ...    ...  ...  ...   ...       ...   \n",
      "STBZIP78        NaN         2.0  NaN   NaN    NaN  ...  1.0   NaN       NaN   \n",
      "STBZIP79        NaN         1.0  1.0   NaN    1.0  ...  1.0   NaN       1.0   \n",
      "STBZIP8         1.0         2.0  NaN   NaN    NaN  ...  1.0   NaN       NaN   \n",
      "STBZIP80        NaN         4.0  NaN   NaN    NaN  ...  NaN   NaN       NaN   \n",
      "STBZIP9         NaN         1.0  3.0   NaN    NaN  ...  2.0   NaN       NaN   \n",
      "\n",
      "                                                                           \\\n",
      "Element  chs-CMA2a chs-CMA2b chs-Unit 1 m1 circadian dOCT plant_AP-2-like   \n",
      "Gene                                                                        \n",
      "STBZIP1        NaN       NaN           NaN       1.0  NaN             NaN   \n",
      "STBZIP10       NaN       1.0           NaN       NaN  1.0             NaN   \n",
      "STBZIP11       NaN       NaN           1.0       NaN  NaN             NaN   \n",
      "STBZIP12       NaN       NaN           NaN       NaN  NaN             NaN   \n",
      "STBZIP13       NaN       NaN           NaN       1.0  NaN             NaN   \n",
      "...            ...       ...           ...       ...  ...             ...   \n",
      "STBZIP78       NaN       NaN           NaN       NaN  NaN             NaN   \n",
      "STBZIP79       NaN       NaN           NaN       NaN  NaN             NaN   \n",
      "STBZIP8        NaN       NaN           NaN       NaN  NaN             NaN   \n",
      "STBZIP80       NaN       NaN           NaN       1.0  NaN             NaN   \n",
      "STBZIP9        NaN       NaN           NaN       1.0  NaN             NaN   \n",
      "\n",
      "                 \n",
      "Element  re2f-1  \n",
      "Gene             \n",
      "STBZIP1     NaN  \n",
      "STBZIP10    NaN  \n",
      "STBZIP11    NaN  \n",
      "STBZIP12    NaN  \n",
      "STBZIP13    NaN  \n",
      "...         ...  \n",
      "STBZIP78    NaN  \n",
      "STBZIP79    NaN  \n",
      "STBZIP8     NaN  \n",
      "STBZIP80    NaN  \n",
      "STBZIP9     NaN  \n",
      "\n",
      "[80 rows x 112 columns]\n"
     ]
    }
   ],
   "source": [
    "print(df)"
   ]
  },
  {
   "cell_type": "code",
   "execution_count": 23,
   "metadata": {},
   "outputs": [],
   "source": [
    "file_name = 'df.xlsx'"
   ]
  },
  {
   "cell_type": "code",
   "execution_count": 24,
   "metadata": {},
   "outputs": [
    {
     "name": "stdout",
     "output_type": "stream",
     "text": [
      "DataFrame is written to Excel File successfully.\n"
     ]
    }
   ],
   "source": [
    "df.to_excel(file_name) \n",
    "print('DataFrame is written to Excel File successfully.')"
   ]
  },
  {
   "cell_type": "code",
   "execution_count": null,
   "metadata": {},
   "outputs": [],
   "source": []
  }
 ],
 "metadata": {
  "kernelspec": {
   "display_name": "Python 3",
   "language": "python",
   "name": "python3"
  },
  "language_info": {
   "codemirror_mode": {
    "name": "ipython",
    "version": 3
   },
   "file_extension": ".py",
   "mimetype": "text/x-python",
   "name": "python",
   "nbconvert_exporter": "python",
   "pygments_lexer": "ipython3",
   "version": "3.8.3"
  }
 },
 "nbformat": 4,
 "nbformat_minor": 4
}
